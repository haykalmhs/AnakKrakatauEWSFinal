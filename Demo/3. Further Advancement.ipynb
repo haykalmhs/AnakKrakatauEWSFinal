{
 "cells": [
  {
   "cell_type": "markdown",
   "metadata": {},
   "source": [
    "## Beamforming & AFD\n",
    "\n",
    "Beamforming, a form of array processing, is the first step in the analysis of data from infrasonic arrays. Conventional beamforming methods (Bartlett, Capon) separate coherent and incoherent parts of a signal through the assumption of planar waves arriving at the array. A signal backazimuth and slowness can be estimated as signals are shifted to account for travel time differentials across array elements, bringing the signal into phase across as the noise deconstructively cancels out. In the classical, or Bartlett methodology , data records on each array element are time-shifted versions of the other with local noise,\n",
    "\n",
    "\n",
    "InfraPy uses an Adaptive Fisher-Detector (AFD) for identifying detections in the beamforming results. The standard F-detector is based on decision rules for the F-statistic, which provides an estimate of the signal's beam power and is calculated as the power in the beam divided by the average over all channels of the power difference between the beam and the individual channels cite{Blandford:1982}. The AFD accounts for both correlated and uncorrelated noise through an increase in the value of the F-statistic required to declare a detection based upon background F-values being elevated from coherent or persistent noise sources. The figure below illustrates how the AFD remaps the F-statistic through the application of a C-value, which effective reduces the detection threshold (p-value) and decreases the number of noise-related detections.\n",
    "\n"
   ]
  },
  {
   "cell_type": "code",
   "execution_count": null,
   "metadata": {},
   "outputs": [],
   "source": [
    "# I06AU\n",
    "!infrapy run_fk --local-wvfrms '/run/media/viblab/Markov2/Haykal/AnakKrakatauEWSFinal/data/raw/ASSOC_TEST/IM.I06H*..BDF__20181203T000000Z__20181204T000000Z.sac' --freq-min 0.7 --freq-max 4 --window-len 300 --window-step 150 --back-az-min 50 --back-az-max 60"
   ]
  },
  {
   "cell_type": "code",
   "execution_count": null,
   "metadata": {},
   "outputs": [],
   "source": [
    "# I52GB\n",
    "!infrapy run_fk --local-wvfrms '/run/media/viblab/Markov2/Haykal/AnakKrakatauEWSFinal/data/raw/ASSOC_TEST/IM.I52H*..BDF__20181203T000000Z__20181204T000000Z.sac' --freq-min 2 --freq-max 10 --window-len 300 --window-step 150 --back-az-min 80 --back-az-max 100"
   ]
  },
  {
   "cell_type": "markdown",
   "metadata": {},
   "source": [
    "| I06AU | I52GB |\n",
    "|-------|-------|\n",
    "|<img src=\"/run/media/viblab/Markov2/Haykal/AnakKrakatauEWSFinal/data/raw/ASSOC_TEST/Assoc_Results/Event_Population_2/106AU_FK_FD_Results.png\" alt=\"Assoc\" width=\"400\"/>|<img src=\"/run/media/viblab/Markov2/Haykal/AnakKrakatauEWSFinal/data/raw/ASSOC_TEST/Assoc_Results/Event_Population_2/152GB_FK_FD_Results.png\" alt=\"Assoc\" width=\"400\"/>|\n",
    "|<img src=\"/run/media/viblab/Markov2/Haykal/AnakKrakatauEWSFinal/data/raw/ASSOC_TEST/106AU_Dets.png\" alt=\"Assoc\" width=\"400\"/>|<img src=\"/run/media/viblab/Markov2/Haykal/AnakKrakatauEWSFinal/data/raw/ASSOC_TEST/I52GB_Dets.png\" alt=\"Assoc\" width=\"400\"/>       |"
   ]
  },
  {
   "cell_type": "markdown",
   "metadata": {},
   "source": [
    "## Association\n",
    "\n",
    "InfraPy uses a pair-based, joint-likelihood method to identify those detection sets with high likelihood of originating from a common source.  Events are identified using a pair-based Bayesian algorithm that defines the association between detection pairs from their joint-likelihood and identifies events via hierarchical clustering analysis\n",
    "\n",
    "- The current implementation utilizes only spatial and temporal coincidence, but additional detection information can further improve event identification\n",
    "\n",
    "- Evaluation using a synthetic data set has shown some mixing of spatially similar events poorly resolved by network geometry and occasional inclusion of \"noise\" detections in event clustering\n",
    "\n",
    "\n",
    "**Integration Region Analysis**\n",
    "\n",
    "The joint-likelihood calculation used to quantify the probability that a pair of detections originated from a common source includes a pre-computation step to identify an integration region for the joint-likelihood.  The identification of this integration region can be complicated and is controlled by several parameters in InfraPy.  Consider the figure below showing a pair of detecting infrasound arrays (orange triangles).  The direction-of-arrival information from beamforming (fk) analysis is used to compute a back projection from each station out some maximum distance to identify intersections.  In InfraPy, this projection distance is controlled by :code:`range_max` parameter (:code:`--range-max` on the CLI).  In addition to this maximum projection range, the integration region analysis is dependent on the lighter blue projections that bound the central great circle path.  These bounding projections are defined by the :code:`back_az_width` parameter (:code:`--back-az-width` on the command line).  These values default to 2000 km and :math:`\\pm 10^o` and are intended for regional analysis.  In the case of local or global scale analysis, the maximum range should be modified to be 10's of km or 1000's of km, respectively, depending on the likely source-receiver ranges.\n",
    "\n",
    "<img src=\"/run/media/viblab/Markov2/Haykal/AnakKrakatauEWSFinal/Figure/beam-overlap.jpg\" alt=\"Assoc\" width=\"400\"/>\n"
   ]
  },
  {
   "cell_type": "code",
   "execution_count": 2,
   "metadata": {},
   "outputs": [
    {
     "name": "stdout",
     "output_type": "stream",
     "text": [
      "\n",
      "#####################################\n",
      "##                                 ##\n",
      "##             InfraPy             ##\n",
      "##       Association Analysis      ##\n",
      "##                                 ##\n",
      "#####################################\n",
      "\n",
      "\n",
      "Data summary:\n",
      "  local_detect_label: /run/media/viblab/Markov2/Haykal/AnakKrakatauEWSFinal/data/raw/ASSOC_TEST/*.dets.json\n",
      "  local_event_label: /run/media/viblab/Markov2/Haykal/AnakKrakatauEWSFinal/data/raw/ASSOC_TEST/Assoc_Results/Event_Population_2/assoc_out_2\n",
      "  starttime: None\n",
      "  endtime: None\n",
      "\n",
      "Parameter summary:\n",
      "  back_az_width: 10.0\n",
      "  range_max: 4000.0\n",
      "  resolution: 180\n",
      "  distance_matrix_max: 8.0\n",
      "  cluster_linkage: weighted\n",
      "  cluster_threshold: 5.0\n",
      "  trimming_threshold: 3.8\n",
      "\n",
      "Loading detections from files:\n",
      "\t/run/media/viblab/Markov2/Haykal/AnakKrakatauEWSFinal/data/raw/ASSOC_TEST/IM.I06H_2018.12.03_00.00.00-00.00.16.dets.json\n",
      "\t/run/media/viblab/Markov2/Haykal/AnakKrakatauEWSFinal/data/raw/ASSOC_TEST/IM.I52H_2018.12.03_00.00.17-00.00.19.dets.json\n",
      "\n",
      "Running event identification for: 2018-12-02T18:58:14.500000Z - 2018-12-03T02:32:45.500000Z\n",
      "\tComputing joint-likelihoods...\n",
      "\t\tProgress: \t[                                                  >>>>>>>>>>>>>>>>>>>>>>>>>>>>>>>>>>>>>>>>>>>>>>>>>>\n",
      "\tClustering detections into events...\n",
      "\tTrimming poor linkages and repeating clustering analysis...\n",
      "\n",
      "Running event identification for: 2018-12-02T21:29:44.500000Z - 2018-12-03T05:04:15.500000Z\n",
      "\tComputing joint-likelihoods...\n",
      "\t\tProgress: \t[                                                  >>>>>>>>>>>>>>>>>>>>>>>>>>>>>>>>>>>>>>>>>>>>>>>>>>\n",
      "\tClustering detections into events...\n",
      "\tTrimming poor linkages and repeating clustering analysis...\n",
      "\n",
      "Running event identification for: 2018-12-03T00:01:14.500000Z - 2018-12-03T07:35:45.500000Z\n",
      "\tComputing joint-likelihoods...\n",
      "\t\tProgress: \t[                                                  >>>>>>>>>>>>>>>>>>>>>>>>>>>>>>>>>>>>>>>>>>>>>>>>>>\n",
      "\tClustering detections into events...\n",
      "\tTrimming poor linkages and repeating clustering analysis...\n",
      "\n",
      "Running event identification for: 2018-12-03T02:32:44.500000Z - 2018-12-03T10:07:15.500000Z\n",
      "\tComputing joint-likelihoods...\n",
      "\t\tProgress: \t[                                                  >>>>>>>>>>>>>>>>>>>>>>>>>>>>>>>>>>>>>>>>>>>>>>>>>>\n",
      "\tClustering detections into events...\n",
      "\tTrimming poor linkages and repeating clustering analysis...\n",
      "\n",
      "Running event identification for: 2018-12-03T05:04:14.500000Z - 2018-12-03T12:38:45.500000Z\n",
      "\tComputing joint-likelihoods...\n",
      "\t\tProgress: \t[                                                  >>>>>>>>>>>>>>>>>>>>>>>>>>>>>>>>>>>>>>>>>>>>>>>>>>\n",
      "\tClustering detections into events...\n",
      "\tTrimming poor linkages and repeating clustering analysis...\n",
      "\n",
      "Running event identification for: 2018-12-03T07:35:44.500000Z - 2018-12-03T15:10:15.500000Z\n",
      "\tComputing joint-likelihoods...\n",
      "\t\tProgress: \t[                                                  >>>>>>>>>>>>>>>>>>>>>>>>>>>>>>>>>>>>>>>>>>>>>>>>>>\n",
      "\tClustering detections into events...\n",
      "\tTrimming poor linkages and repeating clustering analysis...\n",
      "\n",
      "Running event identification for: 2018-12-03T10:07:14.500000Z - 2018-12-03T17:41:45.500000Z\n",
      "\tComputing joint-likelihoods...\n",
      "\t\tProgress: \t[                                                  >>>>>>>>>>>>>>>>>>>>>>>>>>>>>>>>>>>>>>>>>>>>>>>>>>\n",
      "\tClustering detections into events...\n",
      "\tTrimming poor linkages and repeating clustering analysis...\n",
      "\n",
      "Running event identification for: 2018-12-03T12:38:44.500000Z - 2018-12-03T20:13:15.500000Z\n",
      "\tComputing joint-likelihoods...\n",
      "\t\tProgress: \t[                                                  >>>>>>>>>>>>>>>>>>>>>>>>>>>>>>>>>>>>>>>>>>>>>>>>>>\n",
      "\tClustering detections into events...\n",
      "\tTrimming poor linkages and repeating clustering analysis...\n",
      "\n",
      "Running event identification for: 2018-12-03T15:10:14.500000Z - 2018-12-03T22:44:45.500000Z\n",
      "\tComputing joint-likelihoods...\n",
      "\t\tProgress: \t[                                                  >>>>>>>>>>>>>>>>>>>>>>>>>>>>>>>>>>>>>>>>>>>>>>>>>>\n",
      "\tClustering detections into events...\n",
      "\tTrimming poor linkages and repeating clustering analysis...\n",
      "\n",
      "Running event identification for: 2018-12-03T17:41:44.500000Z - 2018-12-04T01:16:15.500000Z\n",
      "\tComputing joint-likelihoods...\n",
      "\t\tProgress: \t[                                                  >>>>>>>>>>>>>>>>>>>>>>>>>>>>>>>>>>>>>>>>>>>>>>>>>>\n",
      "\tClustering detections into events...\n",
      "\tTrimming poor linkages and repeating clustering analysis...\n",
      "\n",
      "Running event identification for: 2018-12-03T20:13:14.500000Z - 2018-12-04T03:47:45.500000Z\n",
      "\tComputing joint-likelihoods...\n",
      "\t\tProgress: \t[                                                  >>>>>>>>>>>>>>>>>>>>>>>>>>>>>>>>>>>>>>>>>>>>>>>>>>\n",
      "\tClustering detections into events...\n",
      "\tTrimming poor linkages and repeating clustering analysis...\n",
      "\n",
      "Running event identification for: 2018-12-03T22:44:44.500000Z - 2018-12-04T06:19:15.500000Z\n",
      "\tComputing joint-likelihoods...\n",
      "\t\tProgress: \t[                                                  >>>>>>>>>>>>>>>>>>>>>>>>>>>>>>>>>>>>>>>>>>>>>>>>>>\n",
      "\tClustering detections into events...\n",
      "\tTrimming poor linkages and repeating clustering analysis...\n",
      "\n",
      "Cleaning up and merging clusters...\n",
      "Identified 4 events.\n",
      "\n",
      "\u001b[0m"
     ]
    }
   ],
   "source": [
    "!infrapy run_assoc --local-detect-label '/run/media/viblab/Markov2/Haykal/AnakKrakatauEWSFinal/data/raw/ASSOC_TEST/*.dets.json' --range-max 4000 --local-event-label '/run/media/viblab/Markov2/Haykal/AnakKrakatauEWSFinal/data/raw/ASSOC_TEST/Assoc_Results/Event_Population_2/assoc_out_2' --event-population-min 2"
   ]
  },
  {
   "cell_type": "markdown",
   "metadata": {},
   "source": [
    "| Event 0 | Event 1 | Event 2 | Event 3 |\n",
    "|---------|---------|---------|---------|\n",
    "|<img src=\"/run/media/viblab/Markov2/Haykal/AnakKrakatauEWSFinal/data/raw/ASSOC_TEST/Assoc_Results/Event_Population_2/Assoc_ev0.png\" alt=\"Assoc\" width=\"400\"/>|<img src=\"/run/media/viblab/Markov2/Haykal/AnakKrakatauEWSFinal/data/raw/ASSOC_TEST/Assoc_Results/Event_Population_2/Assoc_ev1.png\" alt=\"Assoc\" width=\"400\"/>|<img src=\"/run/media/viblab/Markov2/Haykal/AnakKrakatauEWSFinal/data/raw/ASSOC_TEST/Assoc_Results/Event_Population_2/Assoc_ev2.png\" alt=\"Assoc\" width=\"400\"/>|<img src=\"/run/media/viblab/Markov2/Haykal/AnakKrakatauEWSFinal/data/raw/ASSOC_TEST/Assoc_Results/Event_Population_2/Assoc_ev0.png\" alt=\"Assoc\" width=\"400\"/>|\n",
    "|<img src=\"/run/media/viblab/Markov2/Haykal/AnakKrakatauEWSFinal/data/raw/ASSOC_TEST/Assoc_Results/Event_Population_2/Assoc_ev0_Zoom.png\" alt=\"Assoc\" width=\"500\"/>|<img src=\"/run/media/viblab/Markov2/Haykal/AnakKrakatauEWSFinal/data/raw/ASSOC_TEST/Assoc_Results/Event_Population_2/Assoc_ev1_Zoom.png\" alt=\"Assoc\" width=\"500\"/>|         |<img src=\"/run/media/viblab/Markov2/Haykal/AnakKrakatauEWSFinal/data/raw/ASSOC_TEST/Assoc_Results/Event_Population_2/Assoc_ev3_Zoom.png\" alt=\"Assoc\" width=\"500\"/>|"
   ]
  },
  {
   "cell_type": "markdown",
   "metadata": {},
   "source": [
    "#### Event 3\n",
    "\n",
    "| Time (UTC)                 | [\"F Stat.\"] | [\"Trace Vel. (m/s)\"] | Start  | End   | Freq Range[0] | Freq Range[1] | Method   | Event | Network | Station |\n",
    "|----------------------------|-------------|----------------------|--------|-------|---------------|---------------|----------|-------|---------|---------|\n",
    "| 2018-12-03T13:38:45.500000 | 1.5761      | 364.22               | -150.0 | 150.0 | 0.7           | 4.0           | bartlett |   3   | IM      | I06H    |\n",
    "| 2018-12-03T15:10:35.300000 | 1.5901      | 390.72               | 0.0    | 75.0  | 2.0           | 10.0          | bartlett |   3   | IM      | I52H    |"
   ]
  },
  {
   "cell_type": "markdown",
   "metadata": {},
   "source": [
    "## Localization\n",
    "\n",
    "Event analysis in InfraPy uses the Bayesian Infrasonic Source Localization (BISL) methodology to estimate both the spatial location of the event as well as the origin time with quantified uncertainty. Preliminary analysis of the back projections can be used to define the spatial region of interest. The analysis identifies the maximum posteriori solution and also marginalizes a subset of the parameters to produce spatial and temporal distributions for the source. Likelihood definitions relating detection parameters to spatial and temporal source characteristics are shared between association and localization analysis for consistency."
   ]
  },
  {
   "cell_type": "code",
   "execution_count": 6,
   "metadata": {},
   "outputs": [
    {
     "name": "stdout",
     "output_type": "stream",
     "text": [
      "\n",
      "#####################################\n",
      "##                                 ##\n",
      "##             InfraPy             ##\n",
      "##      Localization Analysis      ##\n",
      "##                                 ##\n",
      "#####################################\n",
      "\n",
      "\n",
      "Data summary:\n",
      "  local_detect_label: /run/media/viblab/Markov2/Haykal/AnakKrakatauEWSFinal/data/raw/ASSOC_TEST/Assoc_Results/Event_Population_2/assoc_out_2-ev3.dets.json\n",
      "  local_loc_label: /run/media/viblab/Markov2/Haykal/AnakKrakatauEWSFinal/data/raw/ASSOC_TEST/Assoc_Results/Event_Population_2/Local_ev3\n",
      "\n",
      "Parameter summary:\n",
      "  back_az_width: 10.0\n",
      "  range_max: 4000.0\n",
      "  resolution: 180\n",
      "  src_est: [-6.102, 105.423, 300.0]\n",
      "\n",
      "Loading detections from file: /run/media/viblab/Markov2/Haykal/AnakKrakatauEWSFinal/data/raw/ASSOC_TEST/Assoc_Results/Event_Population_2/assoc_out_2-ev3.dets.json\n",
      "\n",
      "Running Bayesian Infrasonic Source Localization (BISL) Analysis...\n",
      "\tIdentifying integration region...\n",
      "\tComputing marginalized spatial PDF...\n",
      "\tComputing confidence ellipse parameters...\n",
      "\tComputing marginalized origin time PDF...\n",
      "\n",
      "BISL Summary:\n",
      "Maximum a posteriori analysis: \n",
      "\tSource location: -2.836, 104.959 \n",
      "\tSource time: 2018-12-03T12:06:37.955000 \n",
      "Source location analysis:\n",
      "\tLatitude (mean and standard deviation): -4.801 +/- 104.877 km. \n",
      "\tLongitude (mean and standard deviation): 105.654 +/- 137.217 km.\n",
      "\tCovariance: -0.121.\n",
      "\tArea of 95 confidence ellipse: 270877.003 square kilometers\n",
      "Source time analysis:\n",
      "\tMean and standard deviation: 2018-12-03T12:09:33.050000 +/- 553.078 second\n",
      "\tExact 90% confidence bounds: [2018-12-03T11:54:06.387000, 2018-12-03T12:23:58.157000]\n",
      "\n",
      "Writing localization result into /run/media/viblab/Markov2/Haykal/AnakKrakatauEWSFinal/data/raw/ASSOC_TEST/Assoc_Results/Event_Population_2/Local_ev3.loc.json\n",
      "\u001b[0m"
     ]
    }
   ],
   "source": [
    "!infrapy run_loc --local-detect-label '/run/media/viblab/Markov2/Haykal/AnakKrakatauEWSFinal/data/raw/ASSOC_TEST/Assoc_Results/Event_Population_2/assoc_out_2-ev3.dets.json' --local-loc-label '/run/media/viblab/Markov2/Haykal/AnakKrakatauEWSFinal/data/raw/ASSOC_TEST/Assoc_Results/Event_Population_2/Local_ev3' --range-max 4000 --src-est '(-6.102, 105.423,300)'"
   ]
  },
  {
   "cell_type": "markdown",
   "metadata": {},
   "source": [
    "| Event 0 | Event 3 |\n",
    "|---------|---------|\n",
    "|<img src=\"/run/media/viblab/Markov2/Haykal/AnakKrakatauEWSFinal/data/raw/ASSOC_TEST/Assoc_Results/Event_Population_2/Local_ev0.png\" alt=\"Assoc\" width=\"400\"/>|<img src=\"/run/media/viblab/Markov2/Haykal/AnakKrakatauEWSFinal/data/raw/ASSOC_TEST/Assoc_Results/Event_Population_2/Local_ev3.png\" alt=\"Assoc\" width=\"400\"/>|\n",
    "||<img src=\"/run/media/viblab/Markov2/Haykal/AnakKrakatauEWSFinal/data/raw/ASSOC_TEST/Assoc_Results/Event_Population_2/Local_ev3_Zoom.png\" alt=\"Assoc\" width=\"400\"/>|"
   ]
  }
 ],
 "metadata": {
  "kernelspec": {
   "display_name": "infrapy_env",
   "language": "python",
   "name": "python3"
  },
  "language_info": {
   "codemirror_mode": {
    "name": "ipython",
    "version": 3
   },
   "file_extension": ".py",
   "mimetype": "text/x-python",
   "name": "python",
   "nbconvert_exporter": "python",
   "pygments_lexer": "ipython3",
   "version": "3.9.17"
  },
  "orig_nbformat": 4
 },
 "nbformat": 4,
 "nbformat_minor": 2
}
